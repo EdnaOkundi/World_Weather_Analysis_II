{
 "cells": [
  {
   "cell_type": "code",
   "execution_count": 1,
   "id": "f80623ec",
   "metadata": {},
   "outputs": [],
   "source": [
    "# Create a practice set of random latitude and longitude combinations.\n",
    "x = [25.12903645, 25.92017388, 26.62509167, -59.98969384, 37.30571269]\n",
    "y = [-67.59741259, 11.09532135, 74.84233102, -76.89176677, -61.13376282]\n",
    "coordinates = zip(x, y)"
   ]
  },
  {
   "cell_type": "code",
   "execution_count": 2,
   "id": "9b4e18a9",
   "metadata": {},
   "outputs": [
    {
     "name": "stdout",
     "output_type": "stream",
     "text": [
      "25.12903645 -67.59741259\n",
      "25.92017388 11.09532135\n",
      "26.62509167 74.84233102\n",
      "-59.98969384 -76.89176677\n",
      "37.30571269 -61.13376282\n"
     ]
    }
   ],
   "source": [
    "# Use the tuple() function to display the latitude and longitude combinations.\n",
    "for coordinate in coordinates:\n",
    "    print(coordinate[0], coordinate[1])"
   ]
  },
  {
   "cell_type": "code",
   "execution_count": 3,
   "id": "8a5e8724",
   "metadata": {},
   "outputs": [],
   "source": [
    "# Use the citipy module to determine city based on latitude and longitude.\n",
    "from citipy import citipy"
   ]
  },
  {
   "cell_type": "code",
   "execution_count": 4,
   "id": "e1a977d3",
   "metadata": {},
   "outputs": [],
   "source": [
    "# Use the tuple() function to display the latitude and longitude combinations.\n",
    "for coordinate in coordinates:\n",
    "    print(citipy.nearest_city(coordinate[0], coordinate[1]).city_name,\n",
    "          citipy.nearest_city(coordinate[0], coordinate[1]).country_code)"
   ]
  },
  {
   "cell_type": "code",
   "execution_count": 5,
   "id": "b8f09723",
   "metadata": {},
   "outputs": [],
   "source": [
    "# Import the requests library.\n",
    "import requests\n",
    "\n",
    "# Import the API key.\n",
    "from config import weather_api_key"
   ]
  },
  {
   "cell_type": "code",
   "execution_count": 6,
   "id": "5be7c224",
   "metadata": {},
   "outputs": [
    {
     "name": "stdout",
     "output_type": "stream",
     "text": [
      "http://api.openweathermap.org/data/2.5/weather?units=Imperial&APPID=d846d71b8ceec80a3eeb9eb56927053d\n"
     ]
    }
   ],
   "source": [
    "# Starting URL for Weather Map API Call.\n",
    "url = \"http://api.openweathermap.org/data/2.5/weather?units=Imperial&APPID=\" + weather_api_key\n",
    "print(url)"
   ]
  },
  {
   "cell_type": "code",
   "execution_count": 7,
   "id": "49c34ac0",
   "metadata": {},
   "outputs": [
    {
     "name": "stdout",
     "output_type": "stream",
     "text": [
      "http://api.openweathermap.org/data/2.5/weather?units=Imperial&APPID=d846d71b8ceec80a3eeb9eb56927053d&q=Boston\n"
     ]
    }
   ],
   "source": [
    "# Create an endpoint URL for a city.\n",
    "city_url = url + \"&q=\" + \"Boston\"\n",
    "print(city_url)"
   ]
  },
  {
   "cell_type": "code",
   "execution_count": 8,
   "id": "2f1c4be3",
   "metadata": {},
   "outputs": [
    {
     "data": {
      "text/plain": [
       "<Response [200]>"
      ]
     },
     "execution_count": 8,
     "metadata": {},
     "output_type": "execute_result"
    }
   ],
   "source": [
    "# Make a 'Get' request for the city weather.\n",
    "city_weather = requests.get(city_url)\n",
    "city_weather"
   ]
  },
  {
   "cell_type": "code",
   "execution_count": 9,
   "id": "fdbe8d57",
   "metadata": {},
   "outputs": [
    {
     "data": {
      "text/plain": [
       "<Response [404]>"
      ]
     },
     "execution_count": 9,
     "metadata": {},
     "output_type": "execute_result"
    }
   ],
   "source": [
    "# Create an endpoint URL for a city.\n",
    "city_url = url + \"&q=\" + \"Bston\"\n",
    "city_weather = requests.get(city_url)\n",
    "city_weather"
   ]
  },
  {
   "cell_type": "code",
   "execution_count": 10,
   "id": "64ec405e",
   "metadata": {},
   "outputs": [
    {
     "data": {
      "text/plain": [
       "<Response [200]>"
      ]
     },
     "execution_count": 10,
     "metadata": {},
     "output_type": "execute_result"
    }
   ],
   "source": [
    "# Create an endpoint URL for a city.\n",
    "city_url = url + \"&q=\" + \"Boston\"\n",
    "city_weather = requests.get(city_url)\n",
    "city_weather"
   ]
  },
  {
   "cell_type": "code",
   "execution_count": 11,
   "id": "d84553f9",
   "metadata": {},
   "outputs": [
    {
     "data": {
      "text/plain": [
       "'{\"coord\":{\"lon\":-71.0598,\"lat\":42.3584},\"weather\":[{\"id\":601,\"main\":\"Snow\",\"description\":\"snow\",\"icon\":\"13d\"},{\"id\":701,\"main\":\"Mist\",\"description\":\"mist\",\"icon\":\"50d\"}],\"base\":\"stations\",\"main\":{\"temp\":30.69,\"feels_like\":18.09,\"temp_min\":25.14,\"temp_max\":34.23,\"pressure\":1018,\"humidity\":92},\"visibility\":2012,\"wind\":{\"speed\":20.71,\"deg\":70},\"snow\":{\"1h\":1.12},\"clouds\":{\"all\":100},\"dt\":1645802943,\"sys\":{\"type\":2,\"id\":2013408,\"country\":\"US\",\"sunrise\":1645788373,\"sunset\":1645828123},\"timezone\":-18000,\"id\":4930956,\"name\":\"Boston\",\"cod\":200}'"
      ]
     },
     "execution_count": 11,
     "metadata": {},
     "output_type": "execute_result"
    }
   ],
   "source": [
    "# Get the text of the 'Get' request.\n",
    "city_weather.text"
   ]
  },
  {
   "cell_type": "code",
   "execution_count": 12,
   "id": "b528e815",
   "metadata": {},
   "outputs": [
    {
     "data": {
      "text/plain": [
       "{'coord': {'lon': -71.0598, 'lat': 42.3584},\n",
       " 'weather': [{'id': 601, 'main': 'Snow', 'description': 'snow', 'icon': '13d'},\n",
       "  {'id': 701, 'main': 'Mist', 'description': 'mist', 'icon': '50d'}],\n",
       " 'base': 'stations',\n",
       " 'main': {'temp': 30.69,\n",
       "  'feels_like': 18.09,\n",
       "  'temp_min': 25.14,\n",
       "  'temp_max': 34.23,\n",
       "  'pressure': 1018,\n",
       "  'humidity': 92},\n",
       " 'visibility': 2012,\n",
       " 'wind': {'speed': 20.71, 'deg': 70},\n",
       " 'snow': {'1h': 1.12},\n",
       " 'clouds': {'all': 100},\n",
       " 'dt': 1645802943,\n",
       " 'sys': {'type': 2,\n",
       "  'id': 2013408,\n",
       "  'country': 'US',\n",
       "  'sunrise': 1645788373,\n",
       "  'sunset': 1645828123},\n",
       " 'timezone': -18000,\n",
       " 'id': 4930956,\n",
       " 'name': 'Boston',\n",
       " 'cod': 200}"
      ]
     },
     "execution_count": 12,
     "metadata": {},
     "output_type": "execute_result"
    }
   ],
   "source": [
    "# Get the JSON text of the 'Get' request.\n",
    "city_weather.json()"
   ]
  },
  {
   "cell_type": "code",
   "execution_count": 13,
   "id": "652fa240",
   "metadata": {},
   "outputs": [
    {
     "name": "stdout",
     "output_type": "stream",
     "text": [
      "City Weather found.\n"
     ]
    }
   ],
   "source": [
    "# Create an endpoint URL for a city.\n",
    "city_url = url + \"&q=\" + \"Boston\"\n",
    "city_weather = requests.get(city_url)\n",
    "if city_weather.status_code == 200:\n",
    "    print(f\"City Weather found.\")\n",
    "else:\n",
    "    print(f\"City weather not found.\")"
   ]
  },
  {
   "cell_type": "code",
   "execution_count": 14,
   "id": "b9f8891e",
   "metadata": {},
   "outputs": [
    {
     "name": "stdout",
     "output_type": "stream",
     "text": [
      "City weather not found.\n"
     ]
    }
   ],
   "source": [
    "# Create an endpoint URL for a city.\n",
    "city_url = url + \"&q=\" + \"Bston\"\n",
    "city_weather = requests.get(city_url)\n",
    "if city_weather.status_code == 200:\n",
    "    print(f\"City Weather found.\")\n",
    "else:\n",
    "    print(f\"City weather not found.\")"
   ]
  },
  {
   "cell_type": "code",
   "execution_count": 15,
   "id": "a73ddfaf",
   "metadata": {},
   "outputs": [
    {
     "name": "stdout",
     "output_type": "stream",
     "text": [
      "http://api.openweathermap.org/data/2.5/weather?units=Imperial&APPID=d846d71b8ceec80a3eeb9eb56927053d&q=Bston\n"
     ]
    }
   ],
   "source": [
    "print(city_url)"
   ]
  },
  {
   "cell_type": "code",
   "execution_count": 16,
   "id": "24e0086c",
   "metadata": {},
   "outputs": [
    {
     "data": {
      "text/plain": [
       "{'coord': {'lon': -71.0598, 'lat': 42.3584},\n",
       " 'weather': [{'id': 601, 'main': 'Snow', 'description': 'snow', 'icon': '13d'},\n",
       "  {'id': 701, 'main': 'Mist', 'description': 'mist', 'icon': '50d'}],\n",
       " 'base': 'stations',\n",
       " 'main': {'temp': 30.69,\n",
       "  'feels_like': 18.09,\n",
       "  'temp_min': 25.14,\n",
       "  'temp_max': 34.23,\n",
       "  'pressure': 1018,\n",
       "  'humidity': 92},\n",
       " 'visibility': 2012,\n",
       " 'wind': {'speed': 20.71, 'deg': 70},\n",
       " 'snow': {'1h': 1.12},\n",
       " 'clouds': {'all': 100},\n",
       " 'dt': 1645802943,\n",
       " 'sys': {'type': 2,\n",
       "  'id': 2013408,\n",
       "  'country': 'US',\n",
       "  'sunrise': 1645788373,\n",
       "  'sunset': 1645828123},\n",
       " 'timezone': -18000,\n",
       " 'id': 4930956,\n",
       " 'name': 'Boston',\n",
       " 'cod': 200}"
      ]
     },
     "execution_count": 16,
     "metadata": {},
     "output_type": "execute_result"
    }
   ],
   "source": [
    "# Create an endpoint URL for a city.\n",
    "city_url = url + \"&q=\" + \"Boston\"\n",
    "city_weather = requests.get(city_url)\n",
    "city_weather.json()"
   ]
  },
  {
   "cell_type": "code",
   "execution_count": 17,
   "id": "d78a1477",
   "metadata": {},
   "outputs": [],
   "source": [
    "# Get the JSON data.\n",
    "boston_data = city_weather.json()"
   ]
  },
  {
   "cell_type": "code",
   "execution_count": 18,
   "id": "8c37a397",
   "metadata": {},
   "outputs": [
    {
     "data": {
      "text/plain": [
       "{'type': 2,\n",
       " 'id': 2013408,\n",
       " 'country': 'US',\n",
       " 'sunrise': 1645788373,\n",
       " 'sunset': 1645828123}"
      ]
     },
     "execution_count": 18,
     "metadata": {},
     "output_type": "execute_result"
    }
   ],
   "source": [
    "boston_data['sys']"
   ]
  },
  {
   "cell_type": "code",
   "execution_count": 19,
   "id": "d486baab",
   "metadata": {},
   "outputs": [
    {
     "data": {
      "text/plain": [
       "'US'"
      ]
     },
     "execution_count": 19,
     "metadata": {},
     "output_type": "execute_result"
    }
   ],
   "source": [
    "boston_data['sys']['country']"
   ]
  },
  {
   "cell_type": "code",
   "execution_count": 20,
   "id": "5a02c05f",
   "metadata": {},
   "outputs": [
    {
     "data": {
      "text/plain": [
       "1645802943"
      ]
     },
     "execution_count": 20,
     "metadata": {},
     "output_type": "execute_result"
    }
   ],
   "source": [
    "boston_data['dt']"
   ]
  },
  {
   "cell_type": "code",
   "execution_count": 21,
   "id": "b54bb7fc",
   "metadata": {},
   "outputs": [
    {
     "name": "stdout",
     "output_type": "stream",
     "text": [
      "42.3584 -71.0598 34.23 92 100 20.71\n"
     ]
    }
   ],
   "source": [
    "lat = boston_data[\"coord\"][\"lat\"]\n",
    "lng = boston_data[\"coord\"][\"lon\"]\n",
    "max_temp = boston_data[\"main\"][\"temp_max\"]\n",
    "humidity = boston_data[\"main\"][\"humidity\"]\n",
    "clouds = boston_data[\"clouds\"][\"all\"]\n",
    "wind = boston_data[\"wind\"][\"speed\"]\n",
    "print(lat, lng, max_temp, humidity, clouds, wind)"
   ]
  },
  {
   "cell_type": "code",
   "execution_count": 22,
   "id": "16d5a232",
   "metadata": {},
   "outputs": [
    {
     "data": {
      "text/plain": [
       "datetime.datetime(2022, 2, 25, 15, 29, 3)"
      ]
     },
     "execution_count": 22,
     "metadata": {},
     "output_type": "execute_result"
    }
   ],
   "source": [
    "# Import the datetime module from the datetime library.\n",
    "from datetime import datetime\n",
    "# Get the date from the JSON file.\n",
    "date = boston_data[\"dt\"]\n",
    "# Convert the UTC date to a date format with year, month, day, hours, minutes, and seconds.\n",
    "datetime.utcfromtimestamp(date)"
   ]
  },
  {
   "cell_type": "code",
   "execution_count": 23,
   "id": "faa27985",
   "metadata": {},
   "outputs": [
    {
     "data": {
      "text/plain": [
       "'2022-02-25 15:29:03'"
      ]
     },
     "execution_count": 23,
     "metadata": {},
     "output_type": "execute_result"
    }
   ],
   "source": [
    "datetime.utcfromtimestamp(date).strftime('%Y-%m-%d %H:%M:%S')"
   ]
  },
  {
   "cell_type": "code",
   "execution_count": 24,
   "id": "7c1627eb",
   "metadata": {},
   "outputs": [],
   "source": [
    "# Import the time library and the datetime module from the datetime library \n",
    "import time\n",
    "from datetime import datetime\n",
    "import pandas as pd\n",
    "import matplotlib.pyplot as plt\n",
    "import numpy as np"
   ]
  },
  {
   "cell_type": "code",
   "execution_count": 25,
   "id": "d0946c2d",
   "metadata": {},
   "outputs": [
    {
     "data": {
      "text/plain": [
       "<zip at 0x1eabfdb00c8>"
      ]
     },
     "execution_count": 25,
     "metadata": {},
     "output_type": "execute_result"
    }
   ],
   "source": [
    "# Create a set of random latitude and longitude combinations.\n",
    "lats = np.random.uniform(low=-120.000, high=120.000, size=1500)\n",
    "lngs = np.random.uniform(low=-250.000, high=250.000, size=1500)\n",
    "lat_lngs = zip(lats, lngs)\n",
    "lat_lngs"
   ]
  },
  {
   "cell_type": "code",
   "execution_count": 26,
   "id": "921d0ef0",
   "metadata": {},
   "outputs": [],
   "source": [
    "# Add the latitudes and longitudes to a list.\n",
    "coordinates = list(lat_lngs)"
   ]
  },
  {
   "cell_type": "code",
   "execution_count": 27,
   "id": "ac29b3ec",
   "metadata": {},
   "outputs": [],
   "source": [
    "# Use the citipy module to determine city based on latitude and longitude.\n",
    "from citipy import citipy"
   ]
  },
  {
   "cell_type": "code",
   "execution_count": 28,
   "id": "b34656ea",
   "metadata": {},
   "outputs": [
    {
     "data": {
      "text/plain": [
       "430"
      ]
     },
     "execution_count": 28,
     "metadata": {},
     "output_type": "execute_result"
    }
   ],
   "source": [
    "# Create a list for holding the cities.\n",
    "cities = []\n",
    "# Identify the nearest city for each latitude and longitude combination.\n",
    "for coordinate in coordinates:\n",
    "    city = citipy.nearest_city(coordinate[0], coordinate[1]).city_name\n",
    "\n",
    "    # If the city is unique, then we will add it to the cities list.\n",
    "    if city not in cities:\n",
    "        cities.append(city)\n",
    "# Print the city count to confirm sufficient count.\n",
    "len(cities)"
   ]
  },
  {
   "cell_type": "code",
   "execution_count": 29,
   "id": "110b77d1",
   "metadata": {},
   "outputs": [
    {
     "name": "stdout",
     "output_type": "stream",
     "text": [
      "Beginning Data Retrieval     \n",
      "-----------------------------\n",
      "Processing Record 1 of Set 1 | atuona\n",
      "Processing Record 2 of Set 1 | china\n",
      "Processing Record 3 of Set 1 | ballina\n",
      "Processing Record 4 of Set 1 | tolaga bay\n",
      "Processing Record 5 of Set 1 | harper\n",
      "Processing Record 6 of Set 1 | cape town\n",
      "Processing Record 7 of Set 1 | iqaluit\n",
      "Processing Record 8 of Set 1 | east london\n",
      "Processing Record 9 of Set 1 | mutsu\n",
      "Processing Record 10 of Set 1 | beringovskiy\n",
      "Processing Record 11 of Set 1 | qaanaaq\n",
      "Processing Record 12 of Set 1 | hobart\n",
      "Processing Record 13 of Set 1 | vaini\n",
      "Processing Record 14 of Set 1 | mys shmidta\n",
      "City not found. Skipping...\n",
      "Processing Record 15 of Set 1 | lata\n",
      "Processing Record 16 of Set 1 | ribeira grande\n",
      "Processing Record 17 of Set 1 | satitoa\n",
      "City not found. Skipping...\n",
      "Processing Record 18 of Set 1 | ewa beach\n",
      "Processing Record 19 of Set 1 | dunedin\n",
      "Processing Record 20 of Set 1 | new norfolk\n",
      "Processing Record 21 of Set 1 | leningradskiy\n",
      "Processing Record 22 of Set 1 | albany\n",
      "Processing Record 23 of Set 1 | busselton\n",
      "Processing Record 24 of Set 1 | belushya guba\n",
      "City not found. Skipping...\n",
      "Processing Record 25 of Set 1 | grindavik\n",
      "Processing Record 26 of Set 1 | egvekinot\n",
      "Processing Record 27 of Set 1 | batagay-alyta\n",
      "Processing Record 28 of Set 1 | saldanha\n",
      "Processing Record 29 of Set 1 | tiksi\n",
      "Processing Record 30 of Set 1 | puerto carreno\n",
      "Processing Record 31 of Set 1 | venado tuerto\n",
      "Processing Record 32 of Set 1 | longyearbyen\n",
      "Processing Record 33 of Set 1 | rikitea\n",
      "Processing Record 34 of Set 1 | dikson\n",
      "Processing Record 35 of Set 1 | saint-philippe\n",
      "Processing Record 36 of Set 1 | torbay\n",
      "Processing Record 37 of Set 1 | ushuaia\n",
      "Processing Record 38 of Set 1 | bluff\n",
      "Processing Record 39 of Set 1 | antalaha\n",
      "Processing Record 40 of Set 1 | pontal do parana\n",
      "Processing Record 41 of Set 1 | mataura\n",
      "Processing Record 42 of Set 1 | bara\n",
      "Processing Record 43 of Set 1 | nicoya\n",
      "Processing Record 44 of Set 1 | kapaa\n",
      "Processing Record 45 of Set 1 | barrow\n",
      "Processing Record 46 of Set 1 | ancud\n",
      "Processing Record 47 of Set 1 | guerrero negro\n",
      "Processing Record 48 of Set 1 | rungata\n",
      "City not found. Skipping...\n",
      "Processing Record 49 of Set 1 | aflu\n",
      "City not found. Skipping...\n",
      "Processing Record 50 of Set 1 | fortuna\n",
      "Processing Record 1 of Set 2 | juegang\n",
      "Processing Record 2 of Set 2 | asau\n",
      "Processing Record 3 of Set 2 | sibolga\n",
      "Processing Record 4 of Set 2 | toktogul\n",
      "Processing Record 5 of Set 2 | paris\n",
      "Processing Record 6 of Set 2 | jamestown\n",
      "Processing Record 7 of Set 2 | cap malheureux\n",
      "Processing Record 8 of Set 2 | fort nelson\n",
      "Processing Record 9 of Set 2 | pevek\n",
      "Processing Record 10 of Set 2 | adrar\n",
      "Processing Record 11 of Set 2 | sinnamary\n",
      "Processing Record 12 of Set 2 | puerto ayora\n",
      "Processing Record 13 of Set 2 | ossora\n",
      "Processing Record 14 of Set 2 | eydhafushi\n",
      "Processing Record 15 of Set 2 | avera\n",
      "Processing Record 16 of Set 2 | punta arenas\n",
      "Processing Record 17 of Set 2 | carnarvon\n",
      "Processing Record 18 of Set 2 | thompson\n",
      "Processing Record 19 of Set 2 | vaitupu\n",
      "City not found. Skipping...\n",
      "Processing Record 20 of Set 2 | chokurdakh\n",
      "Processing Record 21 of Set 2 | sao joao da barra\n",
      "Processing Record 22 of Set 2 | barkot\n",
      "Processing Record 23 of Set 2 | genhe\n",
      "Processing Record 24 of Set 2 | san cristobal\n",
      "Processing Record 25 of Set 2 | dzhebariki-khaya\n",
      "Processing Record 26 of Set 2 | kalcheva\n",
      "Processing Record 27 of Set 2 | hermanus\n",
      "Processing Record 28 of Set 2 | tuktoyaktuk\n",
      "Processing Record 29 of Set 2 | georgetown\n",
      "Processing Record 30 of Set 2 | lang suan\n",
      "Processing Record 31 of Set 2 | kaitangata\n",
      "Processing Record 32 of Set 2 | butaritari\n",
      "Processing Record 33 of Set 2 | port elizabeth\n",
      "Processing Record 34 of Set 2 | meulaboh\n",
      "Processing Record 35 of Set 2 | waipawa\n",
      "Processing Record 36 of Set 2 | tasiilaq\n",
      "Processing Record 37 of Set 2 | bull savanna\n",
      "Processing Record 38 of Set 2 | zarate\n",
      "Processing Record 39 of Set 2 | barentsburg\n",
      "City not found. Skipping...\n",
      "Processing Record 40 of Set 2 | blind river\n",
      "Processing Record 41 of Set 2 | enid\n",
      "Processing Record 42 of Set 2 | upernavik\n",
      "Processing Record 43 of Set 2 | chuy\n",
      "Processing Record 44 of Set 2 | puerto penasco\n",
      "Processing Record 45 of Set 2 | kavieng\n",
      "Processing Record 46 of Set 2 | nykoping\n",
      "Processing Record 47 of Set 2 | neryungri\n",
      "Processing Record 48 of Set 2 | tungkang\n",
      "City not found. Skipping...\n",
      "Processing Record 49 of Set 2 | sorong\n",
      "Processing Record 50 of Set 2 | lugoba\n",
      "Processing Record 1 of Set 3 | olbia\n",
      "Processing Record 2 of Set 3 | kruisfontein\n",
      "Processing Record 3 of Set 3 | dicabisagan\n",
      "Processing Record 4 of Set 3 | chagda\n",
      "City not found. Skipping...\n",
      "Processing Record 5 of Set 3 | la paz\n",
      "Processing Record 6 of Set 3 | faya\n",
      "Processing Record 7 of Set 3 | quang ngai\n",
      "Processing Record 8 of Set 3 | lebu\n",
      "Processing Record 9 of Set 3 | impfondo\n",
      "Processing Record 10 of Set 3 | vrindavan\n",
      "Processing Record 11 of Set 3 | waspan\n",
      "Processing Record 12 of Set 3 | aklavik\n",
      "Processing Record 13 of Set 3 | ilulissat\n",
      "Processing Record 14 of Set 3 | ruatoria\n",
      "City not found. Skipping...\n",
      "Processing Record 15 of Set 3 | narsaq\n",
      "Processing Record 16 of Set 3 | nevers\n",
      "Processing Record 17 of Set 3 | nome\n",
      "Processing Record 18 of Set 3 | ibimirim\n",
      "Processing Record 19 of Set 3 | kuusamo\n",
      "Processing Record 20 of Set 3 | illoqqortoormiut\n",
      "City not found. Skipping...\n",
      "Processing Record 21 of Set 3 | jega\n",
      "Processing Record 22 of Set 3 | hay river\n",
      "Processing Record 23 of Set 3 | tuatapere\n",
      "Processing Record 24 of Set 3 | kattivakkam\n",
      "Processing Record 25 of Set 3 | nioro\n",
      "Processing Record 26 of Set 3 | castro\n",
      "Processing Record 27 of Set 3 | cabedelo\n",
      "Processing Record 28 of Set 3 | port alfred\n",
      "Processing Record 29 of Set 3 | pemba\n",
      "Processing Record 30 of Set 3 | sulangan\n",
      "Processing Record 31 of Set 3 | norman wells\n",
      "Processing Record 32 of Set 3 | bam\n",
      "Processing Record 33 of Set 3 | poum\n",
      "Processing Record 34 of Set 3 | skibbereen\n",
      "Processing Record 35 of Set 3 | broken hill\n",
      "Processing Record 36 of Set 3 | sikeston\n",
      "Processing Record 37 of Set 3 | sentyabrskiy\n",
      "City not found. Skipping...\n",
      "Processing Record 38 of Set 3 | khatanga\n",
      "Processing Record 39 of Set 3 | nizhneyansk\n",
      "City not found. Skipping...\n",
      "Processing Record 40 of Set 3 | yaring\n",
      "Processing Record 41 of Set 3 | victoria\n",
      "Processing Record 42 of Set 3 | katobu\n",
      "Processing Record 43 of Set 3 | russell\n",
      "Processing Record 44 of Set 3 | tessalit\n",
      "Processing Record 45 of Set 3 | provideniya\n",
      "Processing Record 46 of Set 3 | caravelas\n",
      "Processing Record 47 of Set 3 | tumannyy\n",
      "City not found. Skipping...\n",
      "Processing Record 48 of Set 3 | geraldton\n",
      "Processing Record 49 of Set 3 | sur\n",
      "Processing Record 50 of Set 3 | ponta do sol\n",
      "Processing Record 1 of Set 4 | dingle\n",
      "Processing Record 2 of Set 4 | katsuura\n",
      "Processing Record 3 of Set 4 | kavaratti\n",
      "Processing Record 4 of Set 4 | luderitz\n",
      "Processing Record 5 of Set 4 | lang son\n",
      "Processing Record 6 of Set 4 | halalo\n",
      "City not found. Skipping...\n",
      "Processing Record 7 of Set 4 | bredasdorp\n",
      "Processing Record 8 of Set 4 | mount gambier\n",
      "Processing Record 9 of Set 4 | sao paulo de olivenca\n",
      "Processing Record 10 of Set 4 | vanimo\n",
      "Processing Record 11 of Set 4 | comodoro rivadavia\n",
      "Processing Record 12 of Set 4 | yellowknife\n",
      "Processing Record 13 of Set 4 | hithadhoo\n",
      "Processing Record 14 of Set 4 | biggar\n",
      "Processing Record 15 of Set 4 | avarua\n",
      "Processing Record 16 of Set 4 | sobolevo\n",
      "Processing Record 17 of Set 4 | mahebourg\n",
      "Processing Record 18 of Set 4 | palauig\n",
      "Processing Record 19 of Set 4 | ust-nera\n",
      "Processing Record 20 of Set 4 | saint-joseph\n",
      "Processing Record 21 of Set 4 | ahipara\n",
      "Processing Record 22 of Set 4 | mar del plata\n",
      "Processing Record 23 of Set 4 | kaeo\n",
      "Processing Record 24 of Set 4 | shieli\n",
      "Processing Record 25 of Set 4 | margate\n",
      "Processing Record 26 of Set 4 | bac lieu\n",
      "Processing Record 27 of Set 4 | vuktyl\n",
      "Processing Record 28 of Set 4 | metro\n",
      "Processing Record 29 of Set 4 | san policarpo\n",
      "Processing Record 30 of Set 4 | san francisco\n",
      "Processing Record 31 of Set 4 | misratah\n",
      "Processing Record 32 of Set 4 | pontes e lacerda\n",
      "Processing Record 33 of Set 4 | alta floresta\n",
      "Processing Record 34 of Set 4 | vestmanna\n",
      "Processing Record 35 of Set 4 | lompoc\n",
      "Processing Record 36 of Set 4 | kramat\n",
      "Processing Record 37 of Set 4 | laguna\n"
     ]
    },
    {
     "name": "stdout",
     "output_type": "stream",
     "text": [
      "Processing Record 38 of Set 4 | bandarbeyla\n",
      "Processing Record 39 of Set 4 | general pico\n",
      "Processing Record 40 of Set 4 | nikel\n",
      "Processing Record 41 of Set 4 | iquique\n",
      "Processing Record 42 of Set 4 | rock sound\n",
      "Processing Record 43 of Set 4 | pierre\n",
      "Processing Record 44 of Set 4 | faanui\n",
      "Processing Record 45 of Set 4 | prince rupert\n",
      "Processing Record 46 of Set 4 | payakumbuh\n",
      "Processing Record 47 of Set 4 | talnakh\n",
      "Processing Record 48 of Set 4 | bambous virieux\n",
      "Processing Record 49 of Set 4 | orbe\n",
      "Processing Record 50 of Set 4 | muros\n",
      "Processing Record 1 of Set 5 | zhezkazgan\n",
      "Processing Record 2 of Set 5 | conde\n",
      "Processing Record 3 of Set 5 | buala\n",
      "Processing Record 4 of Set 5 | zhangjiakou\n",
      "Processing Record 5 of Set 5 | seddon\n",
      "Processing Record 6 of Set 5 | qurayyat\n",
      "Processing Record 7 of Set 5 | castanos\n",
      "Processing Record 8 of Set 5 | akyab\n",
      "Processing Record 9 of Set 5 | yar-sale\n",
      "Processing Record 10 of Set 5 | soe\n",
      "Processing Record 11 of Set 5 | kawana waters\n",
      "City not found. Skipping...\n",
      "Processing Record 12 of Set 5 | tabiauea\n",
      "City not found. Skipping...\n",
      "Processing Record 13 of Set 5 | vardo\n",
      "Processing Record 14 of Set 5 | smithers\n",
      "Processing Record 15 of Set 5 | saleaula\n",
      "City not found. Skipping...\n",
      "Processing Record 16 of Set 5 | atikokan\n",
      "Processing Record 17 of Set 5 | mandiana\n",
      "Processing Record 18 of Set 5 | oistins\n",
      "Processing Record 19 of Set 5 | nikolskoye\n",
      "Processing Record 20 of Set 5 | leeton\n",
      "Processing Record 21 of Set 5 | sao miguel do araguaia\n",
      "Processing Record 22 of Set 5 | aksu\n",
      "Processing Record 23 of Set 5 | hilo\n",
      "Processing Record 24 of Set 5 | kenai\n",
      "Processing Record 25 of Set 5 | esperance\n",
      "Processing Record 26 of Set 5 | beyneu\n",
      "Processing Record 27 of Set 5 | isangel\n",
      "Processing Record 28 of Set 5 | taolanaro\n",
      "City not found. Skipping...\n",
      "Processing Record 29 of Set 5 | kailua\n",
      "Processing Record 30 of Set 5 | hasaki\n",
      "Processing Record 31 of Set 5 | palmer\n",
      "Processing Record 32 of Set 5 | zhanatas\n",
      "City not found. Skipping...\n",
      "Processing Record 33 of Set 5 | severo-kurilsk\n",
      "Processing Record 34 of Set 5 | nara\n",
      "Processing Record 35 of Set 5 | buta\n",
      "Processing Record 36 of Set 5 | zhuhai\n",
      "Processing Record 37 of Set 5 | ruteng\n",
      "Processing Record 38 of Set 5 | bethel\n",
      "Processing Record 39 of Set 5 | tacoronte\n",
      "Processing Record 40 of Set 5 | buraydah\n",
      "Processing Record 41 of Set 5 | takoradi\n",
      "Processing Record 42 of Set 5 | inuvik\n",
      "Processing Record 43 of Set 5 | anloga\n",
      "Processing Record 44 of Set 5 | bathsheba\n",
      "Processing Record 45 of Set 5 | ostrovnoy\n",
      "Processing Record 46 of Set 5 | tidore\n",
      "City not found. Skipping...\n",
      "Processing Record 47 of Set 5 | pochutla\n",
      "Processing Record 48 of Set 5 | zavetnoye\n",
      "Processing Record 49 of Set 5 | moyale\n",
      "Processing Record 50 of Set 5 | vila franca do campo\n",
      "Processing Record 1 of Set 6 | la libertad\n",
      "Processing Record 2 of Set 6 | halifax\n",
      "Processing Record 3 of Set 6 | lengshuijiang\n",
      "Processing Record 4 of Set 6 | sao filipe\n",
      "Processing Record 5 of Set 6 | nouna\n",
      "Processing Record 6 of Set 6 | murgab\n",
      "Processing Record 7 of Set 6 | amderma\n",
      "City not found. Skipping...\n",
      "Processing Record 8 of Set 6 | launceston\n",
      "Processing Record 9 of Set 6 | sinkat\n",
      "City not found. Skipping...\n",
      "Processing Record 10 of Set 6 | tonj\n",
      "Processing Record 11 of Set 6 | la ronge\n",
      "Processing Record 12 of Set 6 | palabuhanratu\n",
      "City not found. Skipping...\n",
      "Processing Record 13 of Set 6 | sisimiut\n",
      "Processing Record 14 of Set 6 | coolum beach\n",
      "Processing Record 15 of Set 6 | edgewater\n",
      "Processing Record 16 of Set 6 | jizan\n",
      "Processing Record 17 of Set 6 | berestechko\n",
      "Processing Record 18 of Set 6 | thunder bay\n",
      "Processing Record 19 of Set 6 | gornopravdinsk\n",
      "Processing Record 20 of Set 6 | shingu\n",
      "Processing Record 21 of Set 6 | itaituba\n",
      "Processing Record 22 of Set 6 | karratha\n",
      "Processing Record 23 of Set 6 | alofi\n",
      "Processing Record 24 of Set 6 | clyde river\n",
      "Processing Record 25 of Set 6 | asilah\n",
      "Processing Record 26 of Set 6 | marsh harbour\n",
      "Processing Record 27 of Set 6 | nakhon phanom\n",
      "Processing Record 28 of Set 6 | sinjah\n",
      "City not found. Skipping...\n",
      "Processing Record 29 of Set 6 | jiddah\n",
      "City not found. Skipping...\n",
      "Processing Record 30 of Set 6 | sept-iles\n",
      "Processing Record 31 of Set 6 | joplin\n",
      "Processing Record 32 of Set 6 | vila velha\n",
      "Processing Record 33 of Set 6 | sobreira\n",
      "Processing Record 34 of Set 6 | cherskiy\n",
      "Processing Record 35 of Set 6 | ulladulla\n",
      "Processing Record 36 of Set 6 | san\n",
      "Processing Record 37 of Set 6 | yavaros\n",
      "Processing Record 38 of Set 6 | westport\n",
      "Processing Record 39 of Set 6 | husavik\n",
      "Processing Record 40 of Set 6 | krasnoselkup\n",
      "Processing Record 41 of Set 6 | sumbawa\n",
      "City not found. Skipping...\n",
      "Processing Record 42 of Set 6 | cidreira\n",
      "Processing Record 43 of Set 6 | praia\n",
      "Processing Record 44 of Set 6 | sitka\n",
      "Processing Record 45 of Set 6 | kingsport\n",
      "Processing Record 46 of Set 6 | antofagasta\n",
      "Processing Record 47 of Set 6 | souillac\n",
      "Processing Record 48 of Set 6 | attawapiskat\n",
      "City not found. Skipping...\n",
      "Processing Record 49 of Set 6 | kushiro\n",
      "Processing Record 50 of Set 6 | baijiantan\n",
      "Processing Record 1 of Set 7 | constitucion\n",
      "Processing Record 2 of Set 7 | delta\n",
      "Processing Record 3 of Set 7 | kapit\n",
      "Processing Record 4 of Set 7 | bur gabo\n",
      "City not found. Skipping...\n",
      "Processing Record 5 of Set 7 | mae ramat\n",
      "Processing Record 6 of Set 7 | nanortalik\n",
      "Processing Record 7 of Set 7 | belyy yar\n",
      "Processing Record 8 of Set 7 | seeboden\n",
      "Processing Record 9 of Set 7 | anadyr\n",
      "Processing Record 10 of Set 7 | puerto ayacucho\n",
      "Processing Record 11 of Set 7 | talara\n",
      "Processing Record 12 of Set 7 | ambon\n",
      "Processing Record 13 of Set 7 | nyagan\n",
      "Processing Record 14 of Set 7 | yatou\n",
      "Processing Record 15 of Set 7 | arraial do cabo\n",
      "Processing Record 16 of Set 7 | samusu\n",
      "City not found. Skipping...\n",
      "Processing Record 17 of Set 7 | mayya\n",
      "Processing Record 18 of Set 7 | raga\n",
      "Processing Record 19 of Set 7 | saskylakh\n",
      "Processing Record 20 of Set 7 | paita\n",
      "Processing Record 21 of Set 7 | mataundh\n",
      "Processing Record 22 of Set 7 | carutapera\n",
      "Processing Record 23 of Set 7 | voh\n",
      "Processing Record 24 of Set 7 | mongu\n",
      "Processing Record 25 of Set 7 | taseyevo\n",
      "Processing Record 26 of Set 7 | bengkulu\n",
      "Processing Record 27 of Set 7 | tunxi\n",
      "City not found. Skipping...\n",
      "Processing Record 28 of Set 7 | college\n",
      "Processing Record 29 of Set 7 | leh\n",
      "Processing Record 30 of Set 7 | tezu\n",
      "Processing Record 31 of Set 7 | qui nhon\n",
      "Processing Record 32 of Set 7 | vinh long\n",
      "Processing Record 33 of Set 7 | cayenne\n",
      "Processing Record 34 of Set 7 | alto araguaia\n",
      "Processing Record 35 of Set 7 | lieto\n",
      "Processing Record 36 of Set 7 | trairi\n",
      "Processing Record 37 of Set 7 | nuuk\n",
      "Processing Record 38 of Set 7 | marfil\n",
      "Processing Record 39 of Set 7 | kissamos\n",
      "Processing Record 40 of Set 7 | yulara\n",
      "Processing Record 41 of Set 7 | laredo\n",
      "Processing Record 42 of Set 7 | itarema\n",
      "Processing Record 43 of Set 7 | bacuit\n",
      "City not found. Skipping...\n",
      "Processing Record 44 of Set 7 | manado\n",
      "Processing Record 45 of Set 7 | jacareacanga\n",
      "Processing Record 46 of Set 7 | inverell\n",
      "Processing Record 47 of Set 7 | bargal\n",
      "City not found. Skipping...\n",
      "Processing Record 48 of Set 7 | labuhan\n",
      "Processing Record 49 of Set 7 | roebourne\n",
      "Processing Record 50 of Set 7 | grand gaube\n",
      "Processing Record 1 of Set 8 | kumluca\n",
      "Processing Record 2 of Set 8 | port hardy\n",
      "Processing Record 3 of Set 8 | san juan\n",
      "Processing Record 4 of Set 8 | springside\n",
      "Processing Record 5 of Set 8 | bassano\n",
      "Processing Record 6 of Set 8 | lorengau\n",
      "Processing Record 7 of Set 8 | kristiansund\n",
      "Processing Record 8 of Set 8 | chacabuco\n",
      "Processing Record 9 of Set 8 | cabo san lucas\n",
      "Processing Record 10 of Set 8 | poddorye\n",
      "Processing Record 11 of Set 8 | kamina\n",
      "Processing Record 12 of Set 8 | machado\n",
      "Processing Record 13 of Set 8 | pacific grove\n",
      "Processing Record 14 of Set 8 | langenburg\n",
      "Processing Record 15 of Set 8 | manicore\n",
      "Processing Record 16 of Set 8 | eyl\n",
      "Processing Record 17 of Set 8 | asfi\n",
      "Processing Record 18 of Set 8 | samarai\n",
      "Processing Record 19 of Set 8 | airai\n",
      "Processing Record 20 of Set 8 | svetlogorsk\n",
      "Processing Record 21 of Set 8 | quatre cocos\n",
      "Processing Record 22 of Set 8 | christchurch\n",
      "Processing Record 23 of Set 8 | pisco\n",
      "Processing Record 24 of Set 8 | rumphi\n",
      "Processing Record 25 of Set 8 | urdzhar\n",
      "City not found. Skipping...\n",
      "Processing Record 26 of Set 8 | srednekolymsk\n"
     ]
    },
    {
     "name": "stdout",
     "output_type": "stream",
     "text": [
      "Processing Record 27 of Set 8 | finschhafen\n",
      "Processing Record 28 of Set 8 | tsihombe\n",
      "City not found. Skipping...\n",
      "Processing Record 29 of Set 8 | nagykata\n",
      "Processing Record 30 of Set 8 | san patricio\n",
      "Processing Record 31 of Set 8 | nishihara\n",
      "Processing Record 32 of Set 8 | santo domingo\n",
      "Processing Record 33 of Set 8 | herat\n",
      "Processing Record 34 of Set 8 | gamba\n",
      "Processing Record 35 of Set 8 | suluq\n",
      "Processing Record 36 of Set 8 | kansanshi\n",
      "Processing Record 37 of Set 8 | les cayes\n",
      "Processing Record 38 of Set 8 | san quintin\n",
      "Processing Record 39 of Set 8 | maniago\n",
      "Processing Record 40 of Set 8 | port-gentil\n",
      "Processing Record 41 of Set 8 | armidale\n",
      "Processing Record 42 of Set 8 | kahului\n",
      "Processing Record 43 of Set 8 | kondinskoye\n",
      "Processing Record 44 of Set 8 | havelock\n",
      "Processing Record 45 of Set 8 | porto torres\n",
      "Processing Record 46 of Set 8 | mangrol\n",
      "Processing Record 47 of Set 8 | tabou\n",
      "Processing Record 48 of Set 8 | quelimane\n",
      "Processing Record 49 of Set 8 | camabatela\n",
      "Processing Record 50 of Set 8 | novoomskiy\n",
      "Processing Record 1 of Set 9 | bubaque\n",
      "Processing Record 2 of Set 9 | altay\n",
      "Processing Record 3 of Set 9 | makakilo city\n",
      "Processing Record 4 of Set 9 | kuche\n",
      "City not found. Skipping...\n",
      "Processing Record 5 of Set 9 | auki\n",
      "Processing Record 6 of Set 9 | agadir\n",
      "Processing Record 7 of Set 9 | port lincoln\n",
      "Processing Record 8 of Set 9 | ondjiva\n",
      "Processing Record 9 of Set 9 | andenes\n",
      "Processing Record 10 of Set 9 | nassau\n",
      "Processing Record 11 of Set 9 | sao felix do xingu\n",
      "Processing Record 12 of Set 9 | belmonte\n",
      "Processing Record 13 of Set 9 | tarudant\n",
      "City not found. Skipping...\n",
      "Processing Record 14 of Set 9 | te anau\n",
      "Processing Record 15 of Set 9 | batouri\n",
      "Processing Record 16 of Set 9 | chesma\n",
      "Processing Record 17 of Set 9 | lagoa\n",
      "Processing Record 18 of Set 9 | nikolayevskaya\n",
      "Processing Record 19 of Set 9 | teya\n",
      "Processing Record 20 of Set 9 | markapur\n",
      "Processing Record 21 of Set 9 | himeji\n",
      "Processing Record 22 of Set 9 | saint george\n",
      "Processing Record 23 of Set 9 | mareeba\n",
      "Processing Record 24 of Set 9 | muncar\n",
      "Processing Record 25 of Set 9 | nesna\n",
      "Processing Record 26 of Set 9 | bilibino\n",
      "Processing Record 27 of Set 9 | alexandroupoli\n",
      "Processing Record 28 of Set 9 | baglung\n",
      "Processing Record 29 of Set 9 | nantucket\n",
      "Processing Record 30 of Set 9 | mayna\n",
      "-----------------------------\n",
      "Data Retrieval Complete      \n",
      "-----------------------------\n"
     ]
    }
   ],
   "source": [
    "# Create an empty list to hold the weather data.\n",
    "city_data = []\n",
    "\n",
    "# Print the beginning of the logging.\n",
    "print(\"Beginning Data Retrieval     \")\n",
    "print(\"-----------------------------\")\n",
    "\n",
    "# Create counters.\n",
    "record_count = 1\n",
    "set_count = 1\n",
    "\n",
    "# Loop through all the cities in the list.\n",
    "for i, city in enumerate(cities):\n",
    "\n",
    "    # Group cities in sets of 50 for logging purposes.\n",
    "    if (i % 50 == 0 and i >= 50):\n",
    "        set_count += 1\n",
    "        record_count = 1\n",
    "        time.sleep(60)\n",
    "\n",
    "    # Create endpoint URL with each city.\n",
    "    city_url = url + \"&q=\" + city.replace(\" \",\"+\")\n",
    "\n",
    "    # Log the URL, record, and set numbers and the city.\n",
    "    print(f\"Processing Record {record_count} of Set {set_count} | {city}\")\n",
    "    # Add 1 to the record count.\n",
    "    record_count += 1\n",
    "    \n",
    "# Run an API request for each of the cities.\n",
    "    try:\n",
    "        # Parse the JSON and retrieve data.\n",
    "        city_weather = requests.get(city_url).json()\n",
    "        # Parse out the needed data.\n",
    "        city_lat = city_weather[\"coord\"][\"lat\"]\n",
    "        city_lng = city_weather[\"coord\"][\"lon\"]\n",
    "        city_max_temp = city_weather[\"main\"][\"temp_max\"]\n",
    "        city_humidity = city_weather[\"main\"][\"humidity\"]\n",
    "        city_clouds = city_weather[\"clouds\"][\"all\"]\n",
    "        city_wind = city_weather[\"wind\"][\"speed\"]\n",
    "        city_country = city_weather[\"sys\"][\"country\"]\n",
    "        # Convert the date to ISO standard.\n",
    "        city_date = datetime.utcfromtimestamp(city_weather[\"dt\"]).strftime('%Y-%m-%d %H:%M:%S')\n",
    "        # Append the city information into city_data list.\n",
    "        city_data.append({\"City\": city.title(),\n",
    "                          \"Lat\": city_lat,\n",
    "                          \"Lng\": city_lng,\n",
    "                          \"Max Temp\": city_max_temp,\n",
    "                          \"Humidity\": city_humidity,\n",
    "                          \"Cloudiness\": city_clouds,\n",
    "                          \"Wind Speed\": city_wind,\n",
    "                          \"Country\": city_country,\n",
    "                          \"Date\": city_date})\n",
    "\n",
    "# If an error is experienced, skip the city.\n",
    "    except:\n",
    "        print(\"City not found. Skipping...\")\n",
    "        pass\n",
    "\n",
    "# Indicate that Data Loading is complete.\n",
    "print(\"-----------------------------\")\n",
    "print(\"Data Retrieval Complete      \")\n",
    "print(\"-----------------------------\")"
   ]
  },
  {
   "cell_type": "code",
   "execution_count": 30,
   "id": "e4d0b2d9",
   "metadata": {},
   "outputs": [
    {
     "data": {
      "text/html": [
       "<div>\n",
       "<style scoped>\n",
       "    .dataframe tbody tr th:only-of-type {\n",
       "        vertical-align: middle;\n",
       "    }\n",
       "\n",
       "    .dataframe tbody tr th {\n",
       "        vertical-align: top;\n",
       "    }\n",
       "\n",
       "    .dataframe thead th {\n",
       "        text-align: right;\n",
       "    }\n",
       "</style>\n",
       "<table border=\"1\" class=\"dataframe\">\n",
       "  <thead>\n",
       "    <tr style=\"text-align: right;\">\n",
       "      <th></th>\n",
       "      <th>City</th>\n",
       "      <th>Lat</th>\n",
       "      <th>Lng</th>\n",
       "      <th>Max Temp</th>\n",
       "      <th>Humidity</th>\n",
       "      <th>Cloudiness</th>\n",
       "      <th>Wind Speed</th>\n",
       "      <th>Country</th>\n",
       "      <th>Date</th>\n",
       "    </tr>\n",
       "  </thead>\n",
       "  <tbody>\n",
       "    <tr>\n",
       "      <th>0</th>\n",
       "      <td>Atuona</td>\n",
       "      <td>-9.8000</td>\n",
       "      <td>-139.0333</td>\n",
       "      <td>78.40</td>\n",
       "      <td>77</td>\n",
       "      <td>49</td>\n",
       "      <td>18.97</td>\n",
       "      <td>PF</td>\n",
       "      <td>2022-02-25 15:29:24</td>\n",
       "    </tr>\n",
       "    <tr>\n",
       "      <th>1</th>\n",
       "      <td>China</td>\n",
       "      <td>25.7000</td>\n",
       "      <td>-99.2333</td>\n",
       "      <td>46.17</td>\n",
       "      <td>75</td>\n",
       "      <td>100</td>\n",
       "      <td>17.92</td>\n",
       "      <td>MX</td>\n",
       "      <td>2022-02-25 15:31:24</td>\n",
       "    </tr>\n",
       "    <tr>\n",
       "      <th>2</th>\n",
       "      <td>Ballina</td>\n",
       "      <td>-28.8667</td>\n",
       "      <td>153.5667</td>\n",
       "      <td>75.16</td>\n",
       "      <td>85</td>\n",
       "      <td>100</td>\n",
       "      <td>8.05</td>\n",
       "      <td>AU</td>\n",
       "      <td>2022-02-25 15:31:24</td>\n",
       "    </tr>\n",
       "    <tr>\n",
       "      <th>3</th>\n",
       "      <td>Tolaga Bay</td>\n",
       "      <td>-38.3667</td>\n",
       "      <td>178.3000</td>\n",
       "      <td>58.42</td>\n",
       "      <td>91</td>\n",
       "      <td>54</td>\n",
       "      <td>6.55</td>\n",
       "      <td>NZ</td>\n",
       "      <td>2022-02-25 15:31:25</td>\n",
       "    </tr>\n",
       "    <tr>\n",
       "      <th>4</th>\n",
       "      <td>Harper</td>\n",
       "      <td>4.3750</td>\n",
       "      <td>-7.7169</td>\n",
       "      <td>85.33</td>\n",
       "      <td>67</td>\n",
       "      <td>21</td>\n",
       "      <td>7.90</td>\n",
       "      <td>LR</td>\n",
       "      <td>2022-02-25 15:31:25</td>\n",
       "    </tr>\n",
       "    <tr>\n",
       "      <th>5</th>\n",
       "      <td>Cape Town</td>\n",
       "      <td>-33.9258</td>\n",
       "      <td>18.4232</td>\n",
       "      <td>79.12</td>\n",
       "      <td>54</td>\n",
       "      <td>20</td>\n",
       "      <td>24.16</td>\n",
       "      <td>ZA</td>\n",
       "      <td>2022-02-25 15:31:25</td>\n",
       "    </tr>\n",
       "    <tr>\n",
       "      <th>6</th>\n",
       "      <td>Iqaluit</td>\n",
       "      <td>63.7506</td>\n",
       "      <td>-68.5145</td>\n",
       "      <td>-20.47</td>\n",
       "      <td>67</td>\n",
       "      <td>100</td>\n",
       "      <td>15.01</td>\n",
       "      <td>CA</td>\n",
       "      <td>2022-02-25 15:29:05</td>\n",
       "    </tr>\n",
       "    <tr>\n",
       "      <th>7</th>\n",
       "      <td>East London</td>\n",
       "      <td>-33.0153</td>\n",
       "      <td>27.9116</td>\n",
       "      <td>76.14</td>\n",
       "      <td>73</td>\n",
       "      <td>40</td>\n",
       "      <td>17.27</td>\n",
       "      <td>ZA</td>\n",
       "      <td>2022-02-25 15:26:35</td>\n",
       "    </tr>\n",
       "    <tr>\n",
       "      <th>8</th>\n",
       "      <td>Mutsu</td>\n",
       "      <td>41.2894</td>\n",
       "      <td>141.2169</td>\n",
       "      <td>39.22</td>\n",
       "      <td>52</td>\n",
       "      <td>75</td>\n",
       "      <td>18.41</td>\n",
       "      <td>JP</td>\n",
       "      <td>2022-02-25 15:31:26</td>\n",
       "    </tr>\n",
       "    <tr>\n",
       "      <th>9</th>\n",
       "      <td>Beringovskiy</td>\n",
       "      <td>63.0500</td>\n",
       "      <td>179.3167</td>\n",
       "      <td>14.25</td>\n",
       "      <td>93</td>\n",
       "      <td>97</td>\n",
       "      <td>6.06</td>\n",
       "      <td>RU</td>\n",
       "      <td>2022-02-25 15:31:26</td>\n",
       "    </tr>\n",
       "  </tbody>\n",
       "</table>\n",
       "</div>"
      ],
      "text/plain": [
       "           City      Lat       Lng  Max Temp  Humidity  Cloudiness  \\\n",
       "0        Atuona  -9.8000 -139.0333     78.40        77          49   \n",
       "1         China  25.7000  -99.2333     46.17        75         100   \n",
       "2       Ballina -28.8667  153.5667     75.16        85         100   \n",
       "3    Tolaga Bay -38.3667  178.3000     58.42        91          54   \n",
       "4        Harper   4.3750   -7.7169     85.33        67          21   \n",
       "5     Cape Town -33.9258   18.4232     79.12        54          20   \n",
       "6       Iqaluit  63.7506  -68.5145    -20.47        67         100   \n",
       "7   East London -33.0153   27.9116     76.14        73          40   \n",
       "8         Mutsu  41.2894  141.2169     39.22        52          75   \n",
       "9  Beringovskiy  63.0500  179.3167     14.25        93          97   \n",
       "\n",
       "   Wind Speed Country                 Date  \n",
       "0       18.97      PF  2022-02-25 15:29:24  \n",
       "1       17.92      MX  2022-02-25 15:31:24  \n",
       "2        8.05      AU  2022-02-25 15:31:24  \n",
       "3        6.55      NZ  2022-02-25 15:31:25  \n",
       "4        7.90      LR  2022-02-25 15:31:25  \n",
       "5       24.16      ZA  2022-02-25 15:31:25  \n",
       "6       15.01      CA  2022-02-25 15:29:05  \n",
       "7       17.27      ZA  2022-02-25 15:26:35  \n",
       "8       18.41      JP  2022-02-25 15:31:26  \n",
       "9        6.06      RU  2022-02-25 15:31:26  "
      ]
     },
     "execution_count": 30,
     "metadata": {},
     "output_type": "execute_result"
    }
   ],
   "source": [
    "# Convert the array of dictionaries to a Pandas DataFrame.\n",
    "city_data_df = pd.DataFrame(city_data)\n",
    "city_data_df.head(10)"
   ]
  },
  {
   "cell_type": "code",
   "execution_count": 31,
   "id": "a8c66dd3",
   "metadata": {},
   "outputs": [],
   "source": [
    "df = pd.DataFrame(city_data)"
   ]
  },
  {
   "cell_type": "code",
   "execution_count": 32,
   "id": "47053f74",
   "metadata": {},
   "outputs": [],
   "source": [
    "# Reorder the columns as City, Country, Date, Lat, Lng, Max Temp, Humidity, Cloudiness, and Wind Speed\n",
    "new_column_order = [\"City\", \"Country\", \"Date\", \"Lat\", \"Lng\", \"Max Temp\", \"Humidity\", \"Cloudiness\", \"Wind Speed\"]"
   ]
  },
  {
   "cell_type": "code",
   "execution_count": 33,
   "id": "f98b309e",
   "metadata": {},
   "outputs": [
    {
     "data": {
      "text/html": [
       "<div>\n",
       "<style scoped>\n",
       "    .dataframe tbody tr th:only-of-type {\n",
       "        vertical-align: middle;\n",
       "    }\n",
       "\n",
       "    .dataframe tbody tr th {\n",
       "        vertical-align: top;\n",
       "    }\n",
       "\n",
       "    .dataframe thead th {\n",
       "        text-align: right;\n",
       "    }\n",
       "</style>\n",
       "<table border=\"1\" class=\"dataframe\">\n",
       "  <thead>\n",
       "    <tr style=\"text-align: right;\">\n",
       "      <th></th>\n",
       "      <th>City</th>\n",
       "      <th>Country</th>\n",
       "      <th>Date</th>\n",
       "      <th>Lat</th>\n",
       "      <th>Lng</th>\n",
       "      <th>Max Temp</th>\n",
       "      <th>Humidity</th>\n",
       "      <th>Cloudiness</th>\n",
       "      <th>Wind Speed</th>\n",
       "    </tr>\n",
       "  </thead>\n",
       "  <tbody>\n",
       "    <tr>\n",
       "      <th>0</th>\n",
       "      <td>Atuona</td>\n",
       "      <td>PF</td>\n",
       "      <td>2022-02-25 15:29:24</td>\n",
       "      <td>-9.8000</td>\n",
       "      <td>-139.0333</td>\n",
       "      <td>78.40</td>\n",
       "      <td>77</td>\n",
       "      <td>49</td>\n",
       "      <td>18.97</td>\n",
       "    </tr>\n",
       "    <tr>\n",
       "      <th>1</th>\n",
       "      <td>China</td>\n",
       "      <td>MX</td>\n",
       "      <td>2022-02-25 15:31:24</td>\n",
       "      <td>25.7000</td>\n",
       "      <td>-99.2333</td>\n",
       "      <td>46.17</td>\n",
       "      <td>75</td>\n",
       "      <td>100</td>\n",
       "      <td>17.92</td>\n",
       "    </tr>\n",
       "    <tr>\n",
       "      <th>2</th>\n",
       "      <td>Ballina</td>\n",
       "      <td>AU</td>\n",
       "      <td>2022-02-25 15:31:24</td>\n",
       "      <td>-28.8667</td>\n",
       "      <td>153.5667</td>\n",
       "      <td>75.16</td>\n",
       "      <td>85</td>\n",
       "      <td>100</td>\n",
       "      <td>8.05</td>\n",
       "    </tr>\n",
       "    <tr>\n",
       "      <th>3</th>\n",
       "      <td>Tolaga Bay</td>\n",
       "      <td>NZ</td>\n",
       "      <td>2022-02-25 15:31:25</td>\n",
       "      <td>-38.3667</td>\n",
       "      <td>178.3000</td>\n",
       "      <td>58.42</td>\n",
       "      <td>91</td>\n",
       "      <td>54</td>\n",
       "      <td>6.55</td>\n",
       "    </tr>\n",
       "    <tr>\n",
       "      <th>4</th>\n",
       "      <td>Harper</td>\n",
       "      <td>LR</td>\n",
       "      <td>2022-02-25 15:31:25</td>\n",
       "      <td>4.3750</td>\n",
       "      <td>-7.7169</td>\n",
       "      <td>85.33</td>\n",
       "      <td>67</td>\n",
       "      <td>21</td>\n",
       "      <td>7.90</td>\n",
       "    </tr>\n",
       "    <tr>\n",
       "      <th>...</th>\n",
       "      <td>...</td>\n",
       "      <td>...</td>\n",
       "      <td>...</td>\n",
       "      <td>...</td>\n",
       "      <td>...</td>\n",
       "      <td>...</td>\n",
       "      <td>...</td>\n",
       "      <td>...</td>\n",
       "      <td>...</td>\n",
       "    </tr>\n",
       "    <tr>\n",
       "      <th>388</th>\n",
       "      <td>Bilibino</td>\n",
       "      <td>RU</td>\n",
       "      <td>2022-02-25 15:41:39</td>\n",
       "      <td>68.0546</td>\n",
       "      <td>166.4372</td>\n",
       "      <td>12.42</td>\n",
       "      <td>88</td>\n",
       "      <td>100</td>\n",
       "      <td>0.81</td>\n",
       "    </tr>\n",
       "    <tr>\n",
       "      <th>389</th>\n",
       "      <td>Alexandroupoli</td>\n",
       "      <td>GR</td>\n",
       "      <td>2022-02-25 15:41:40</td>\n",
       "      <td>40.8475</td>\n",
       "      <td>25.8744</td>\n",
       "      <td>53.33</td>\n",
       "      <td>46</td>\n",
       "      <td>20</td>\n",
       "      <td>6.91</td>\n",
       "    </tr>\n",
       "    <tr>\n",
       "      <th>390</th>\n",
       "      <td>Baglung</td>\n",
       "      <td>NP</td>\n",
       "      <td>2022-02-25 15:41:40</td>\n",
       "      <td>28.2719</td>\n",
       "      <td>83.5898</td>\n",
       "      <td>50.56</td>\n",
       "      <td>85</td>\n",
       "      <td>60</td>\n",
       "      <td>3.04</td>\n",
       "    </tr>\n",
       "    <tr>\n",
       "      <th>391</th>\n",
       "      <td>Nantucket</td>\n",
       "      <td>US</td>\n",
       "      <td>2022-02-25 15:37:39</td>\n",
       "      <td>41.2835</td>\n",
       "      <td>-70.0995</td>\n",
       "      <td>36.14</td>\n",
       "      <td>92</td>\n",
       "      <td>100</td>\n",
       "      <td>23.89</td>\n",
       "    </tr>\n",
       "    <tr>\n",
       "      <th>392</th>\n",
       "      <td>Mayna</td>\n",
       "      <td>RU</td>\n",
       "      <td>2022-02-25 15:41:41</td>\n",
       "      <td>54.1135</td>\n",
       "      <td>47.6231</td>\n",
       "      <td>27.66</td>\n",
       "      <td>85</td>\n",
       "      <td>100</td>\n",
       "      <td>11.59</td>\n",
       "    </tr>\n",
       "  </tbody>\n",
       "</table>\n",
       "<p>393 rows × 9 columns</p>\n",
       "</div>"
      ],
      "text/plain": [
       "               City Country                 Date      Lat       Lng  Max Temp  \\\n",
       "0            Atuona      PF  2022-02-25 15:29:24  -9.8000 -139.0333     78.40   \n",
       "1             China      MX  2022-02-25 15:31:24  25.7000  -99.2333     46.17   \n",
       "2           Ballina      AU  2022-02-25 15:31:24 -28.8667  153.5667     75.16   \n",
       "3        Tolaga Bay      NZ  2022-02-25 15:31:25 -38.3667  178.3000     58.42   \n",
       "4            Harper      LR  2022-02-25 15:31:25   4.3750   -7.7169     85.33   \n",
       "..              ...     ...                  ...      ...       ...       ...   \n",
       "388        Bilibino      RU  2022-02-25 15:41:39  68.0546  166.4372     12.42   \n",
       "389  Alexandroupoli      GR  2022-02-25 15:41:40  40.8475   25.8744     53.33   \n",
       "390         Baglung      NP  2022-02-25 15:41:40  28.2719   83.5898     50.56   \n",
       "391       Nantucket      US  2022-02-25 15:37:39  41.2835  -70.0995     36.14   \n",
       "392           Mayna      RU  2022-02-25 15:41:41  54.1135   47.6231     27.66   \n",
       "\n",
       "     Humidity  Cloudiness  Wind Speed  \n",
       "0          77          49       18.97  \n",
       "1          75         100       17.92  \n",
       "2          85         100        8.05  \n",
       "3          91          54        6.55  \n",
       "4          67          21        7.90  \n",
       "..        ...         ...         ...  \n",
       "388        88         100        0.81  \n",
       "389        46          20        6.91  \n",
       "390        85          60        3.04  \n",
       "391        92         100       23.89  \n",
       "392        85         100       11.59  \n",
       "\n",
       "[393 rows x 9 columns]"
      ]
     },
     "execution_count": 33,
     "metadata": {},
     "output_type": "execute_result"
    }
   ],
   "source": [
    "df = df[new_column_order]\n",
    "df"
   ]
  },
  {
   "cell_type": "code",
   "execution_count": 34,
   "id": "23deed35",
   "metadata": {},
   "outputs": [],
   "source": [
    "# Create the output file (CSV).\n",
    "output_data_file = \"weather_data/cities.csv\"\n",
    "# Export the City_Data into a CSV.\n",
    "city_data_df.to_csv(output_data_file, index_label=\"City_ID\")"
   ]
  },
  {
   "cell_type": "code",
   "execution_count": 35,
   "id": "8aa367e9",
   "metadata": {},
   "outputs": [],
   "source": [
    "# Extract relevant fields from the DataFrame for plotting.\n",
    "lats = city_data_df[\"Lat\"]\n",
    "max_temps = city_data_df[\"Max Temp\"]\n",
    "humidity = city_data_df[\"Humidity\"]\n",
    "cloudiness = city_data_df[\"Cloudiness\"]\n",
    "wind_speed = city_data_df[\"Wind Speed\"]"
   ]
  },
  {
   "cell_type": "code",
   "execution_count": 36,
   "id": "0b0b27fe",
   "metadata": {},
   "outputs": [
    {
     "data": {
      "text/plain": [
       "1645803703.0716467"
      ]
     },
     "execution_count": 36,
     "metadata": {},
     "output_type": "execute_result"
    }
   ],
   "source": [
    "# Import the time module.\n",
    "import time\n",
    "# Get today's date in seconds.\n",
    "today = time.time()\n",
    "today"
   ]
  },
  {
   "cell_type": "code",
   "execution_count": 37,
   "id": "b070eb0f",
   "metadata": {},
   "outputs": [
    {
     "data": {
      "text/plain": [
       "'02/25/22'"
      ]
     },
     "execution_count": 37,
     "metadata": {},
     "output_type": "execute_result"
    }
   ],
   "source": [
    "# Get today's date in seconds.\n",
    "today = time.strftime(\"%x\")\n",
    "today "
   ]
  },
  {
   "cell_type": "code",
   "execution_count": 38,
   "id": "32c04e8e",
   "metadata": {},
   "outputs": [
    {
     "data": {
      "image/png": "[encoded data removed]",
      "text/plain": [
       "<Figure size 432x288 with 1 Axes>"
      ]
     },
     "metadata": {
      "needs_background": "light"
     },
     "output_type": "display_data"
    }
   ],
   "source": [
    "# Import time module\n",
    "import time\n",
    "\n",
    "# Build the scatter plot for latitude vs. max temperature.\n",
    "plt.scatter(lats,\n",
    "            max_temps,\n",
    "            edgecolor=\"black\", linewidths=1, marker=\"o\",\n",
    "            alpha=0.8, label=\"Cities\")\n",
    "\n",
    "# Incorporate the other graph properties.\n",
    "plt.title(f\"City Latitude vs. Max Temperature \"+ time.strftime(\"%x\"))\n",
    "plt.ylabel(\"Max Temperature (F)\")\n",
    "plt.xlabel(\"Latitude\")\n",
    "plt.grid(True)\n",
    "\n",
    "# Save the figure.\n",
    "plt.savefig(\"weather_data/Fig1.png\")\n",
    "\n",
    "# Show plot.\n",
    "plt.show()"
   ]
  },
  {
   "cell_type": "code",
   "execution_count": 39,
   "id": "eafb657f",
   "metadata": {},
   "outputs": [
    {
     "data": {
      "image/png": "[encoded data removed]",
      "text/plain": [
       "<Figure size 432x288 with 1 Axes>"
      ]
     },
     "metadata": {
      "needs_background": "light"
     },
     "output_type": "display_data"
    }
   ],
   "source": [
    "# Build the scatter plots for latitude vs. humidity.\n",
    "plt.scatter(lats,\n",
    "            humidity,\n",
    "            edgecolor=\"black\", linewidths=1, marker=\"o\",\n",
    "            alpha=0.8, label=\"Cities\")\n",
    "\n",
    "# Incorporate the other graph properties.\n",
    "plt.title(f\"City Latitude vs. Humidity \"+ time.strftime(\"%x\"))\n",
    "plt.ylabel(\"Humidity (%)\")\n",
    "plt.xlabel(\"Latitude\")\n",
    "plt.grid(True)\n",
    "# Save the figure.\n",
    "plt.savefig(\"weather_data/Fig2.png\")\n",
    "# Show plot.\n",
    "plt.show()"
   ]
  },
  {
   "cell_type": "code",
   "execution_count": 40,
   "id": "c574aa4f",
   "metadata": {},
   "outputs": [
    {
     "data": {
      "image/png": "[encoded data removed]",
      "text/plain": [
       "<Figure size 432x288 with 1 Axes>"
      ]
     },
     "metadata": {
      "needs_background": "light"
     },
     "output_type": "display_data"
    }
   ],
   "source": [
    "# Build the scatter plots for latitude vs. cloudiness.\n",
    "plt.scatter(lats,\n",
    "            cloudiness,\n",
    "            edgecolor=\"black\", linewidths=1, marker=\"o\",\n",
    "            alpha=0.8, label=\"Cities\")\n",
    "\n",
    "# Incorporate the other graph properties.\n",
    "plt.title(f\"City Latitude vs. Cloudiness (%) \"+ time.strftime(\"%x\"))\n",
    "plt.ylabel(\"Cloudiness (%)\")\n",
    "plt.xlabel(\"Latitude\")\n",
    "plt.grid(True)\n",
    "# Save the figure.\n",
    "plt.savefig(\"weather_data/Fig3.png\")\n",
    "# Show plot.\n",
    "plt.show()"
   ]
  },
  {
   "cell_type": "code",
   "execution_count": 41,
   "id": "f6d6038c",
   "metadata": {},
   "outputs": [
    {
     "data": {
      "image/png": "[encoded data removed]",
      "text/plain": [
       "<Figure size 432x288 with 1 Axes>"
      ]
     },
     "metadata": {
      "needs_background": "light"
     },
     "output_type": "display_data"
    }
   ],
   "source": [
    "# Build the scatter plots for latitude vs. wind speed.\n",
    "plt.scatter(lats,\n",
    "            wind_speed,\n",
    "            edgecolor=\"black\", linewidths=1, marker=\"o\",\n",
    "            alpha=0.8, label=\"Cities\")\n",
    "\n",
    "# Incorporate the other graph properties.\n",
    "plt.title(f\"City Latitude vs. Wind Speed \"+ time.strftime(\"%x\"))\n",
    "plt.ylabel(\"Wind Speed (mph)\")\n",
    "plt.xlabel(\"Latitude\")\n",
    "plt.grid(True)\n",
    "# Save the figure.\n",
    "plt.savefig(\"weather_data/Fig4.png\")\n",
    "# Show plot.\n",
    "plt.show()"
   ]
  },
  {
   "cell_type": "code",
   "execution_count": null,
   "id": "eafa821e",
   "metadata": {},
   "outputs": [],
   "source": []
  }
 ],
 "metadata": {
  "kernelspec": {
   "display_name": "PythonData",
   "language": "python",
   "name": "pythondata"
  },
  "language_info": {
   "codemirror_mode": {
    "name": "ipython",
    "version": 3
   },
   "file_extension": ".py",
   "mimetype": "text/x-python",
   "name": "python",
   "nbconvert_exporter": "python",
   "pygments_lexer": "ipython3",
   "version": "3.7.10"
  }
 },
 "nbformat": 4,
 "nbformat_minor": 5
}
